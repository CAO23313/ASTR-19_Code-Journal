{
  "metadata": {
    "kernelspec": {
      "name": "xpython",
      "display_name": "Python 3.13 (XPython)",
      "language": "python"
    },
    "language_info": {
      "file_extension": ".py",
      "mimetype": "text/x-python",
      "name": "python",
      "version": "3.13.1"
    }
  },
  "nbformat_minor": 5,
  "nbformat": 4,
  "cells": [
    {
      "id": "3cf77434-2af7-4411-9827-b13536a9230d",
      "cell_type": "code",
      "source": "import numpy as np",
      "metadata": {
        "trusted": true
      },
      "outputs": [],
      "execution_count": 16
    },
    {
      "id": "7cd69d40-b4a7-4cfe-8980-da3e705ceed3",
      "cell_type": "markdown",
      "source": "Return the sine of input x",
      "metadata": {}
    },
    {
      "id": "f9aab0b0-9908-4771-9ee2-2668d31e8e2b",
      "cell_type": "code",
      "source": "def f_sin(x):\n    return np.sin(x)",
      "metadata": {
        "trusted": true
      },
      "outputs": [],
      "execution_count": 17
    },
    {
      "id": "c5bd6e3e-bae4-4cb7-b20c-b144d0755146",
      "cell_type": "markdown",
      "source": "Return the cosine of input x",
      "metadata": {}
    },
    {
      "id": "c210e05e-c3b1-41cb-898e-a0cadc3c586d",
      "cell_type": "code",
      "source": "def f_cos(x):\n    return np.cos(x)",
      "metadata": {
        "trusted": true
      },
      "outputs": [],
      "execution_count": 18
    },
    {
      "id": "bd8c748f-b390-4236-9a92-fc4aabc0f54a",
      "cell_type": "markdown",
      "source": "generate 1000 points from 0 to 2 and evaluate sin/cos",
      "metadata": {}
    },
    {
      "id": "c0ce73b3-3f6e-46cd-9365-f15f9eae4ee7",
      "cell_type": "code",
      "source": "x = np.linspace(0, 2, 1000)\nsin_values = f_sin(x)\ncos_values = f_cos(x)",
      "metadata": {
        "trusted": true
      },
      "outputs": [],
      "execution_count": 19
    },
    {
      "id": "dcb3c03d-2784-490e-8f0a-44ae3d8fa37e",
      "cell_type": "markdown",
      "source": "print out the first 10 values of x, sin(x), and cos(x) in columns",
      "metadata": {}
    },
    {
      "id": "89dd23b0-ff90-4b7b-85ea-3293e6cae95b",
      "cell_type": "code",
      "source": "print(f\"{'x':>10} {'sin(x)':>15} {'cos(x)':>15}\")\nprint(\"-\" * 40)\n\nfor i in range(10):\n    print(f\"{x[i]:10.6f} {sin_values[i]:15.6f} {cos_values[i]:15.6f}\")",
      "metadata": {
        "trusted": true
      },
      "outputs": [
        {
          "name": "stdout",
          "output_type": "stream",
          "text": "         x          sin(x)          cos(x)\n----------------------------------------\n  0.000000        0.000000        1.000000\n  0.002002        0.002002        0.999998\n  0.004004        0.004004        0.999992\n  0.006006        0.006006        0.999982\n  0.008008        0.008008        0.999968\n  0.010010        0.010010        0.999950\n  0.012012        0.012012        0.999928\n  0.014014        0.014014        0.999902\n  0.016016        0.016015        0.999872\n  0.018018        0.018017        0.999838\n"
        }
      ],
      "execution_count": 20
    }
  ]
}